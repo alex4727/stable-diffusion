{
 "cells": [
  {
   "cell_type": "code",
   "execution_count": 1,
   "metadata": {},
   "outputs": [
    {
     "name": "stderr",
     "output_type": "stream",
     "text": [
      "/opt/conda/envs/ldm/lib/python3.8/site-packages/tqdm/auto.py:22: TqdmWarning: IProgress not found. Please update jupyter and ipywidgets. See https://ipywidgets.readthedocs.io/en/stable/user_install.html\n",
      "  from .autonotebook import tqdm as notebook_tqdm\n",
      "Downloading: 100%|██████████| 4.09k/4.09k [00:00<00:00, 2.91MB/s]\n",
      "Downloading: 100%|██████████| 577M/577M [00:11<00:00, 50.7MB/s] \n",
      "Downloading: 100%|██████████| 316/316 [00:00<00:00, 230kB/s]\n",
      "Downloading: 100%|██████████| 568/568 [00:00<00:00, 396kB/s]\n",
      "Downloading: 100%|██████████| 842k/842k [00:08<00:00, 106kB/s]  \n",
      "Downloading: 100%|██████████| 512k/512k [00:04<00:00, 130kB/s]  \n",
      "Downloading: 100%|██████████| 2.12M/2.12M [00:15<00:00, 146kB/s] \n",
      "Downloading: 100%|██████████| 389/389 [00:00<00:00, 170kB/s]\n"
     ]
    }
   ],
   "source": [
    "from PIL import Image\n",
    "import requests\n",
    "\n",
    "from transformers import CLIPProcessor, CLIPModel\n",
    "\n",
    "model = CLIPModel.from_pretrained(\"openai/clip-vit-base-patch32\")\n",
    "processor = CLIPProcessor.from_pretrained(\"openai/clip-vit-base-patch32\")\n",
    "\n",
    "url = \"http://images.cocodataset.org/val2017/000000039769.jpg\"\n",
    "image = Image.open(requests.get(url, stream=True).raw)\n",
    "\n",
    "inputs = processor(text=[\"a photo of a cat\", \"a photo of a dog\"], images=image, return_tensors=\"pt\", padding=True)\n",
    "\n",
    "outputs = model(**inputs)\n",
    "logits_per_image = outputs.logits_per_image  # this is the image-text similarity score\n",
    "probs = logits_per_image.softmax(dim=1)  # we can take the softmax to get the label probabilities"
   ]
  },
  {
   "cell_type": "code",
   "execution_count": 18,
   "metadata": {},
   "outputs": [
    {
     "name": "stdout",
     "output_type": "stream",
     "text": [
      "odict_keys(['last_hidden_state', 'pooler_output'])\n",
      "odict_keys(['last_hidden_state', 'pooler_output'])\n"
     ]
    }
   ],
   "source": [
    "print(outputs.keys())\n",
    "print(outputs.vision_model_output.keys())\n",
    "print(outputs.text_model_output.keys())"
   ]
  },
  {
   "cell_type": "code",
   "execution_count": 16,
   "metadata": {},
   "outputs": [
    {
     "name": "stdout",
     "output_type": "stream",
     "text": [
      "torch.Size([1, 50, 768])\n",
      "torch.Size([1, 768])\n",
      "torch.Size([2, 7, 512])\n",
      "torch.Size([2, 512])\n"
     ]
    }
   ],
   "source": [
    "print(outputs.vision_model_output.last_hidden_state.shape)\n",
    "print(outputs.vision_model_output.pooler_output.shape)\n",
    "print(outputs.text_model_output.last_hidden_state.shape)\n",
    "print(outputs.text_model_output.pooler_output.shape)\n"
   ]
  },
  {
   "cell_type": "code",
   "execution_count": 3,
   "metadata": {},
   "outputs": [
    {
     "name": "stdout",
     "output_type": "stream",
     "text": [
      "1250\n",
      "1050\n",
      "784\n",
      "948\n",
      "1157\n",
      "1208\n",
      "1253\n",
      "1255\n",
      "1150\n",
      "1250\n",
      "1266\n",
      "1245\n",
      "1275\n",
      "1265\n",
      "1179\n",
      "1293\n",
      "1068\n",
      "1287\n",
      "908\n",
      "1143\n",
      "1213\n",
      "1119\n",
      "1123\n",
      "1129\n",
      "1186\n",
      "1244\n",
      "1166\n",
      "1244\n",
      "1021\n",
      "1052\n",
      "1013\n",
      "1217\n",
      "1235\n",
      "1244\n",
      "1182\n",
      "1257\n",
      "1232\n",
      "1261\n",
      "1286\n",
      "1204\n",
      "1220\n",
      "1285\n",
      "1064\n",
      "1197\n",
      "1236\n",
      "1246\n",
      "954\n",
      "1268\n",
      "1099\n",
      "1271\n",
      "924\n",
      "1273\n",
      "1111\n",
      "1204\n",
      "1231\n",
      "1143\n",
      "1284\n",
      "1127\n",
      "1295\n",
      "1266\n",
      "1266\n",
      "1150\n",
      "1243\n",
      "1222\n",
      "1269\n",
      "1292\n",
      "1256\n",
      "1003\n",
      "951\n",
      "1228\n",
      "1265\n",
      "1264\n",
      "872\n",
      "1290\n",
      "1163\n",
      "1242\n",
      "1220\n",
      "1256\n",
      "1270\n",
      "1285\n",
      "1174\n",
      "1207\n",
      "1266\n",
      "1165\n",
      "1074\n",
      "1019\n",
      "20\n",
      "1281\n",
      "1262\n",
      "798\n",
      "1114\n",
      "1219\n",
      "1239\n",
      "1078\n",
      "1285\n"
     ]
    }
   ],
   "source": [
    "import numpy as np\n",
    "import os\n",
    "dirs = \"/home/jhshin4727/data/ImageNet-LT-text/train\"\n",
    "for folder in os.listdir(dirs):\n",
    "    datas = os.listdir(os.path.join(dirs, folder))\n",
    "    for data in datas:\n",
    "        if \"npy\" in data:\n",
    "            tmp = np.load(os.path.join(dirs, folder, data))\n",
    "            if tmp.shape[0] == 0:\n",
    "                print(f\"0 samples in {tmp}\")\n",
    "            else:\n",
    "                print(f\"{tmp.shape[0]}\")"
   ]
  },
  {
   "cell_type": "code",
   "execution_count": 13,
   "metadata": {},
   "outputs": [
    {
     "name": "stdout",
     "output_type": "stream",
     "text": [
      "train/n01440764/real_1000.JPEG\n"
     ]
    }
   ],
   "source": [
    "img = \"train/n01440764/n01440764_190.JPEG\"\n",
    "count=1000\n",
    "image_name = f\"{img[:img.rfind('/')]}/real_{count:04d}.JPEG\"\n",
    "print(image_name)"
   ]
  },
  {
   "cell_type": "code",
   "execution_count": 15,
   "metadata": {},
   "outputs": [
    {
     "name": "stderr",
     "output_type": "stream",
     "text": [
      "115846it [12:53, 149.86it/s]\n"
     ]
    }
   ],
   "source": [
    "import os\n",
    "import shutil\n",
    "from tqdm import tqdm\n",
    "\n",
    "imagenet_stats = dict()      \n",
    "real_images = 0\n",
    "with open(\"ImageNet-LT/ImageNet_labels.txt\", \"r\") as f:\n",
    "    lines = f.read().splitlines()\n",
    "    cls_ids, cls_idxs, cls_names = zip(*[i.split(\" \") for i in lines])\n",
    "    for cls_id, cls_idx, cls_name in zip(cls_ids, cls_idxs, cls_names):\n",
    "        sample_dict = dict()\n",
    "        sample_dict['name'] = cls_name\n",
    "        sample_dict['id'] = cls_id\n",
    "        sample_dict['idx'] = cls_idx\n",
    "        sample_dict['num'] = 0\n",
    "        sample_dict['prompt'] = f\"a realistic image of {cls_name.replace('_', ' ')}\"\n",
    "        imagenet_stats[cls_idx] = sample_dict\n",
    "        os.makedirs(os.path.join(f\"/root/data/data/ImageNet-LT\", \"train\", f\"{cls_id}\"), exist_ok=True)\n",
    "\n",
    "with open(\"ImageNet-LT/ImageNet_LT_train.txt\", \"r\") as f:\n",
    "    lines = f.read().splitlines()\n",
    "    subset_image_list, subset_label_list = zip(*[i.split(\" \") for i in lines])\n",
    "    count = 0\n",
    "    prev_label = 0\n",
    "    for img, label in tqdm(zip(subset_image_list, subset_label_list)):\n",
    "        imagenet_stats[label]['num'] += 1\n",
    "        real_images += 1\n",
    "        if prev_label != label:\n",
    "            count = 0\n",
    "            prev_label = label\n",
    "        new_name = f\"{img[:img.rfind('/')]}/real_{label}_{count:04d}.JPEG\"\n",
    "        shutil.copy(os.path.join(f\"/root/data2/data/ImageNet\", img), os.path.join(f\"/root/data/data/ImageNet-LT\", new_name))\n",
    "        count += 1"
   ]
  },
  {
   "cell_type": "code",
   "execution_count": 30,
   "metadata": {},
   "outputs": [
    {
     "data": {
      "text/plain": [
       "[1, 2, 3, 10]"
      ]
     },
     "execution_count": 30,
     "metadata": {},
     "output_type": "execute_result"
    }
   ],
   "source": [
    "per_gpu_samples = [1,2,3,4]\n",
    "per_gpu_samples[-1]=10\n",
    "per_gpu_samples"
   ]
  },
  {
   "cell_type": "code",
   "execution_count": 46,
   "metadata": {},
   "outputs": [
    {
     "name": "stdout",
     "output_type": "stream",
     "text": [
      "1280\n",
      "5\n",
      "115.846\n"
     ]
    },
    {
     "data": {
      "image/png": "[encoded data removed]",
      "text/plain": [
       "<Figure size 640x480 with 1 Axes>"
      ]
     },
     "metadata": {},
     "output_type": "display_data"
    }
   ],
   "source": [
    "import matplotlib.pyplot as plt\n",
    "import numpy as np\n",
    "\n",
    "nums = []\n",
    "for i in imagenet_stats:\n",
    "    nums.append(imagenet_stats[i]['num'])\n",
    "print(np.max(nums))\n",
    "print(np.min(nums))\n",
    "print(np.mean(nums))\n",
    "plt.plot(sorted(nums))"
   ]
  }
 ],
 "metadata": {
  "kernelspec": {
   "display_name": "Python 3.8.5 ('ldm')",
   "language": "python",
   "name": "python3"
  },
  "language_info": {
   "codemirror_mode": {
    "name": "ipython",
    "version": 3
   },
   "file_extension": ".py",
   "mimetype": "text/x-python",
   "name": "python",
   "nbconvert_exporter": "python",
   "pygments_lexer": "ipython3",
   "version": "3.8.5"
  },
  "orig_nbformat": 4,
  "vscode": {
   "interpreter": {
    "hash": "afaf7b9974a9993a24921efe4bafd795ec4a11fdf3793e227c3c50c68c1d8d32"
   }
  }
 },
 "nbformat": 4,
 "nbformat_minor": 2
}
